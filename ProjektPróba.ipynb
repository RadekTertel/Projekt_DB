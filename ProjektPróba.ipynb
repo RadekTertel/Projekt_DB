{
 "cells": [
  {
   "cell_type": "markdown",
   "metadata": {},
   "source": [
    "# Biblioteki"
   ]
  },
  {
   "cell_type": "code",
   "execution_count": 1,
   "metadata": {},
   "outputs": [],
   "source": [
    "import mysql.connector\n",
    "from mysql.connector import Error\n",
    "import pandas as pd"
   ]
  },
  {
   "cell_type": "markdown",
   "metadata": {},
   "source": [
    "# Pobranie Danych o najpopularniejszych imionach i nazwisakch z GUS'u"
   ]
  },
  {
   "cell_type": "code",
   "execution_count": 2,
   "metadata": {},
   "outputs": [],
   "source": [
    "fn = pd.read_csv('ZI.csv')\n",
    "mn = pd.read_csv('MI.csv')\n",
    "fsn = pd.read_csv('ZN.csv')\n",
    "msn = pd.read_csv('MN.csv')"
   ]
  },
  {
   "cell_type": "markdown",
   "metadata": {},
   "source": [
    "## 1.Wypełnienie Skryptowe Imion i Nazwisk:"
   ]
  },
  {
   "cell_type": "code",
   "execution_count": 29,
   "metadata": {},
   "outputs": [],
   "source": [
    "def Klienci():\n",
    "    try:\n",
    "        # Połącz się z bazą danych\n",
    "        connection = mysql.connector.connect(\n",
    "            host = \"giniewicz.it\",\n",
    "            user = \"team16\",\n",
    "            password = \"te@m24ig\",\n",
    "            database = \"team16\"\n",
    "        )\n",
    "        \n",
    "        if connection.is_connected():\n",
    "            cursor = connection.cursor()\n",
    "            \n",
    "            # Tworzenie tabeli Klienci, jeśli jeszcze nie istnieje\n",
    "            create_table_query = '''\n",
    "            CREATE TABLE IF NOT EXISTS Klienci (\n",
    "                id_klienta VARCHAR(4) NOT NULL PRIMARY KEY,\n",
    "                imie VARCHAR(255) NOT NULL,\n",
    "                nazwisko VARCHAR(255) NOT NULL\n",
    "            )\n",
    "            '''\n",
    "            cursor.execute(create_table_query)\n",
    "            print(\"Table `Klienci` created successfully\")\n",
    "\n",
    "            # Usunięcie wszystkich danych z tabeli Klienci\n",
    "            delete_all_query = \"DELETE FROM Klienci\"\n",
    "            cursor.execute(delete_all_query)\n",
    "            print(\"All data deleted from `Klienci` table\")\n",
    "\n",
    "            # Zapytanie SQL do wstawienia rekordu\n",
    "            sql_insert_query = \"\"\"INSERT INTO Klienci (id_klienta, imie, nazwisko) \n",
    "                                  VALUES (%s, %s, %s)\"\"\"\n",
    "            record = ('0001', 'Tomasz', 'Próba')\n",
    "            cursor.execute(sql_insert_query, record)\n",
    "            \n",
    "            # Zatwierdzenie zmian w bazie danych\n",
    "            connection.commit()\n",
    "            print(\"Record inserted successfully into Klienci table\")\n",
    "\n",
    "            # Wyświetlenie zawartości tabeli Klienci\n",
    "            cursor.execute(\"SELECT * FROM Klienci\")\n",
    "            rows = cursor.fetchall()\n",
    "            print(\"Table `Klienci` content:\")\n",
    "            for row in rows:\n",
    "                print(row)\n",
    "\n",
    "    except Error as e:\n",
    "        print(f\"Error while connecting to MySQL: {e}\")\n",
    "\n",
    "    finally:\n",
    "        if connection.is_connected():\n",
    "            cursor.close()\n",
    "            connection.close()\n",
    "            print(\"MySQL connection is closed\")"
   ]
  },
  {
   "cell_type": "code",
   "execution_count": 30,
   "metadata": {},
   "outputs": [
    {
     "name": "stdout",
     "output_type": "stream",
     "text": [
      "Table `Klienci` created successfully\n",
      "All data deleted from `Klienci` table\n",
      "Record inserted successfully into Klienci table\n",
      "Table `Klienci` content:\n",
      "('0001', 'Tomasz', 'Próba')\n",
      "MySQL connection is closed\n"
     ]
    }
   ],
   "source": [
    "Klienci()"
   ]
  }
 ],
 "metadata": {
  "kernelspec": {
   "display_name": "Python 3",
   "language": "python",
   "name": "python3"
  },
  "language_info": {
   "codemirror_mode": {
    "name": "ipython",
    "version": 3
   },
   "file_extension": ".py",
   "mimetype": "text/x-python",
   "name": "python",
   "nbconvert_exporter": "python",
   "pygments_lexer": "ipython3",
   "version": "3.10.0"
  }
 },
 "nbformat": 4,
 "nbformat_minor": 2
}
